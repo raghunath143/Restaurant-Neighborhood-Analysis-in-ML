{
    "cells": [
        {
            "cell_type": "markdown",
            "metadata": {
                "collapsed": true
            },
            "source": "#  Segmenting and Clustering Neighborhoods in MUMBAI"
        },
        {
            "cell_type": "markdown",
            "metadata": {},
            "source": "### Business Problem"
        },
        {
            "cell_type": "markdown",
            "metadata": {},
            "source": "Mumbai is a busy city. People here are always in a hurry. Local train passengers as well as best bus users and employees need to eat breakfast, lunch, dinner. Although food sales are forbidden in some railway stations, many do offer merchants the opportunityto sell food. Foods that attract people in a hurry are easy snacks and lite food like sandwiches, fries, pizza, burger. Beverages such as coffee, tea, wraps, bottled water, soda and juice also sell well. Thus, the main objective of the project will be to find exact locations idea in the city for food retail chains, aiming at the above demographic, thereby helping the owners of the outlets to extract maximum profits out of them."
        },
        {
            "cell_type": "markdown",
            "metadata": {},
            "source": "### Data Collection"
        },
        {
            "cell_type": "markdown",
            "metadata": {},
            "source": "There are several sources to collect data for above problem. We have choosen WIKIPEDIA page of wikipedia.org/wiki/List_of_neighbourhoods_in_Mumbai for neighbourhood data of mumbai man and in later part we collect the venue data through foursquare api and model the data and prdeict the locations for ideal spots to keep a food chain in the Mumbai city. At first the data of the neighbourhoods in Mumbai can be extracted out by web scraping using BeautifulSoup library for Python. The neighbourhood data is taken from a Wikipedia webpage mentioned above. The file contents from Mumbai csv is retrieved into a Pandas DataFrame. The latitude and longitude of the neighbourhoods are retrieved using geospacial data.The location values\nare then stored into the intial dataframe.From the location data obtained after the above data frame , the data is pointed out by passing in the required parameters to the FourSquare API, and creating another DataFrame to contain all the venue details along with the respective neighbourhoods. By choosing a methodology we obtain required locations"
        },
        {
            "cell_type": "code",
            "execution_count": null,
            "metadata": {},
            "outputs": [],
            "source": ""
        },
        {
            "cell_type": "code",
            "execution_count": null,
            "metadata": {},
            "outputs": [],
            "source": ""
        }
    ],
    "metadata": {
        "kernelspec": {
            "display_name": "Python 3.6",
            "language": "python",
            "name": "python3"
        },
        "language_info": {
            "codemirror_mode": {
                "name": "ipython",
                "version": 3
            },
            "file_extension": ".py",
            "mimetype": "text/x-python",
            "name": "python",
            "nbconvert_exporter": "python",
            "pygments_lexer": "ipython3",
            "version": "3.6.9"
        }
    },
    "nbformat": 4,
    "nbformat_minor": 1
}